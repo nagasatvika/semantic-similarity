{
  "cells": [
    {
      "cell_type": "markdown",
      "metadata": {
        "id": "view-in-github",
        "colab_type": "text"
      },
      "source": [
        "<a href=\"https://colab.research.google.com/github/nagasatvika/semantic-similarity/blob/main/sentence_similarity.ipynb\" target=\"_parent\"><img src=\"https://colab.research.google.com/assets/colab-badge.svg\" alt=\"Open In Colab\"/></a>"
      ]
    },
    {
      "cell_type": "markdown",
      "metadata": {
        "id": "40TaWAnUmMXo"
      },
      "source": [
        "Installing the HuggingFace Datasets"
      ]
    },
    {
      "cell_type": "code",
      "execution_count": 26,
      "metadata": {
        "colab": {
          "base_uri": "https://localhost:8080/"
        },
        "collapsed": true,
        "id": "NBCt7qfwZHL4",
        "outputId": "a028af78-b0db-414c-855d-8193b386d698"
      },
      "outputs": [
        {
          "output_type": "stream",
          "name": "stdout",
          "text": [
            "Requirement already satisfied: datasets in /usr/local/lib/python3.10/dist-packages (2.20.0)\n",
            "Requirement already satisfied: filelock in /usr/local/lib/python3.10/dist-packages (from datasets) (3.15.4)\n",
            "Requirement already satisfied: numpy>=1.17 in /usr/local/lib/python3.10/dist-packages (from datasets) (1.25.2)\n",
            "Requirement already satisfied: pyarrow>=15.0.0 in /usr/local/lib/python3.10/dist-packages (from datasets) (16.1.0)\n",
            "Requirement already satisfied: pyarrow-hotfix in /usr/local/lib/python3.10/dist-packages (from datasets) (0.6)\n",
            "Requirement already satisfied: dill<0.3.9,>=0.3.0 in /usr/local/lib/python3.10/dist-packages (from datasets) (0.3.8)\n",
            "Requirement already satisfied: pandas in /usr/local/lib/python3.10/dist-packages (from datasets) (2.0.3)\n",
            "Requirement already satisfied: requests>=2.32.2 in /usr/local/lib/python3.10/dist-packages (from datasets) (2.32.3)\n",
            "Requirement already satisfied: tqdm>=4.66.3 in /usr/local/lib/python3.10/dist-packages (from datasets) (4.66.4)\n",
            "Requirement already satisfied: xxhash in /usr/local/lib/python3.10/dist-packages (from datasets) (3.4.1)\n",
            "Requirement already satisfied: multiprocess in /usr/local/lib/python3.10/dist-packages (from datasets) (0.70.16)\n",
            "Requirement already satisfied: fsspec[http]<=2024.5.0,>=2023.1.0 in /usr/local/lib/python3.10/dist-packages (from datasets) (2023.6.0)\n",
            "Requirement already satisfied: aiohttp in /usr/local/lib/python3.10/dist-packages (from datasets) (3.9.5)\n",
            "Requirement already satisfied: huggingface-hub>=0.21.2 in /usr/local/lib/python3.10/dist-packages (from datasets) (0.23.4)\n",
            "Requirement already satisfied: packaging in /usr/local/lib/python3.10/dist-packages (from datasets) (24.1)\n",
            "Requirement already satisfied: pyyaml>=5.1 in /usr/local/lib/python3.10/dist-packages (from datasets) (6.0.1)\n",
            "Requirement already satisfied: aiosignal>=1.1.2 in /usr/local/lib/python3.10/dist-packages (from aiohttp->datasets) (1.3.1)\n",
            "Requirement already satisfied: attrs>=17.3.0 in /usr/local/lib/python3.10/dist-packages (from aiohttp->datasets) (23.2.0)\n",
            "Requirement already satisfied: frozenlist>=1.1.1 in /usr/local/lib/python3.10/dist-packages (from aiohttp->datasets) (1.4.1)\n",
            "Requirement already satisfied: multidict<7.0,>=4.5 in /usr/local/lib/python3.10/dist-packages (from aiohttp->datasets) (6.0.5)\n",
            "Requirement already satisfied: yarl<2.0,>=1.0 in /usr/local/lib/python3.10/dist-packages (from aiohttp->datasets) (1.9.4)\n",
            "Requirement already satisfied: async-timeout<5.0,>=4.0 in /usr/local/lib/python3.10/dist-packages (from aiohttp->datasets) (4.0.3)\n",
            "Requirement already satisfied: typing-extensions>=3.7.4.3 in /usr/local/lib/python3.10/dist-packages (from huggingface-hub>=0.21.2->datasets) (4.12.2)\n",
            "Requirement already satisfied: charset-normalizer<4,>=2 in /usr/local/lib/python3.10/dist-packages (from requests>=2.32.2->datasets) (3.3.2)\n",
            "Requirement already satisfied: idna<4,>=2.5 in /usr/local/lib/python3.10/dist-packages (from requests>=2.32.2->datasets) (3.7)\n",
            "Requirement already satisfied: urllib3<3,>=1.21.1 in /usr/local/lib/python3.10/dist-packages (from requests>=2.32.2->datasets) (2.0.7)\n",
            "Requirement already satisfied: certifi>=2017.4.17 in /usr/local/lib/python3.10/dist-packages (from requests>=2.32.2->datasets) (2024.6.2)\n",
            "Requirement already satisfied: python-dateutil>=2.8.2 in /usr/local/lib/python3.10/dist-packages (from pandas->datasets) (2.8.2)\n",
            "Requirement already satisfied: pytz>=2020.1 in /usr/local/lib/python3.10/dist-packages (from pandas->datasets) (2023.4)\n",
            "Requirement already satisfied: tzdata>=2022.1 in /usr/local/lib/python3.10/dist-packages (from pandas->datasets) (2024.1)\n",
            "Requirement already satisfied: six>=1.5 in /usr/local/lib/python3.10/dist-packages (from python-dateutil>=2.8.2->pandas->datasets) (1.16.0)\n"
          ]
        }
      ],
      "source": [
        "!pip install datasets"
      ]
    },
    {
      "cell_type": "markdown",
      "metadata": {
        "id": "nTL2fCWRGKwE"
      },
      "source": [
        "Loading the dataset"
      ]
    },
    {
      "cell_type": "code",
      "execution_count": 27,
      "metadata": {
        "collapsed": true,
        "id": "8IawaHhPQ79d"
      },
      "outputs": [],
      "source": [
        "from datasets import load_dataset\n",
        "\n",
        "dataset = load_dataset(\"paws\", \"labeled_final\")"
      ]
    },
    {
      "cell_type": "code",
      "source": [
        "import pandas as pd\n",
        "df = pd.DataFrame(dataset['test'])\n",
        "df.info()"
      ],
      "metadata": {
        "colab": {
          "base_uri": "https://localhost:8080/"
        },
        "id": "SBitHz7vAnoj",
        "outputId": "d6c51326-58e3-47cd-956d-46c5aeca339f"
      },
      "execution_count": 28,
      "outputs": [
        {
          "output_type": "stream",
          "name": "stdout",
          "text": [
            "<class 'pandas.core.frame.DataFrame'>\n",
            "RangeIndex: 8000 entries, 0 to 7999\n",
            "Data columns (total 4 columns):\n",
            " #   Column     Non-Null Count  Dtype \n",
            "---  ------     --------------  ----- \n",
            " 0   id         8000 non-null   int64 \n",
            " 1   sentence1  8000 non-null   object\n",
            " 2   sentence2  8000 non-null   object\n",
            " 3   label      8000 non-null   int64 \n",
            "dtypes: int64(2), object(2)\n",
            "memory usage: 250.1+ KB\n"
          ]
        }
      ]
    },
    {
      "cell_type": "markdown",
      "metadata": {
        "id": "szOtCO2JSrxY"
      },
      "source": [
        "#Jaccard Similarity\n",
        "Jaccard Similarity matric used to determine the similarity between two text document means how the two text documents close to each other in terms of their context that is how many common words are exist over total words.\n",
        "\n",
        "Resources Referred:\n",
        "[Jaccard Similarity](https://studymachinelearning.com/jaccard-similarity-text-similarity-metric-in-nlp/#google_vignette)"
      ]
    },
    {
      "cell_type": "markdown",
      "metadata": {
        "id": "uaX-KnGRzagn"
      },
      "source": [
        "1. Define a function lower_split which converts the whole text into lower case and splits sentences into words\n",
        "2.  Define a Function Jaccard_Similarity and then returning the calculated similarity score using union and intersection\n",
        "1. Using a For Loop and extracting the first 5 sentences from test Dataset\n",
        " >Extracting the required sentence\n",
        "\n",
        " >calling the lower_split and applying it on the sentence1 and sentence2\n",
        "\n",
        " >calling Jaccard_Similarity and finding the similarity between the 2 sentences\n",
        "\n",
        " >printing the 'sentence1' 'sentence2' and 'similarity score'\n",
        "\n",
        "\n",
        "\n"
      ]
    },
    {
      "cell_type": "code",
      "execution_count": 29,
      "metadata": {
        "colab": {
          "base_uri": "https://localhost:8080/"
        },
        "id": "p8GmJFWn7g9m",
        "outputId": "cdfb1175-5cd0-42f1-f6b2-03b4eabcdc2a"
      },
      "outputs": [
        {
          "output_type": "stream",
          "name": "stdout",
          "text": [
            "sentence1:\"This was a series of nested angular standards , so that measurements in azimuth and elevation could be done directly in polar coordinates relative to the ecliptic .\"\n",
            "sentence2:\"This was a series of nested polar scales , so that measurements in azimuth and elevation could be performed directly in angular coordinates relative to the ecliptic .\"\n",
            "score:0.8620689655172413\n",
            "\n",
            "sentence1:\"His father emigrated to Missouri in 1868 but returned when his wife became ill and before the rest of the family could also go to America .\"\n",
            "sentence2:\"His father emigrated to America in 1868 , but returned when his wife became ill and before the rest of the family could go to Missouri .\"\n",
            "score:0.92\n",
            "\n",
            "sentence1:\"In January 2011 , the Deputy Secretary General of FIBA Asia , Hagop Khajirian , inspected the venue together with SBP - President Manuel V. Pangilinan .\"\n",
            "sentence2:\"In January 2011 , FIBA Asia deputy secretary general Hagop Khajirian along with SBP president Manuel V. Pangilinan inspected the venue .\"\n",
            "score:0.84\n",
            "\n",
            "sentence1:\"Steiner argued that , in the right circumstances , the spiritual world can be explored through direct experience by practicing ethical and cognitive forms of rigorous self-discipline .\"\n",
            "sentence2:\"Steiner held that the spiritual world can be researched in the right circumstances through direct experience , by persons practicing rigorous forms of ethical and cognitive self-discipline .\"\n",
            "score:0.8275862068965517\n",
            "\n",
            "sentence1:\"Luciano Williames Dias ( born July 25 , 1970 ) is a Brazilian football coach and former player .\"\n",
            "sentence2:\"Luciano Williames Dias ( born 25 July 1970 ) is a former football coach and Brazilian player .\"\n",
            "score:0.9473684210526315\n",
            "\n",
            "sentence1:\"During her sophomore , junior and senior summers , she spent half of it with her Alaska team , and half playing , and living in Oregon .\"\n",
            "sentence2:\"During her second , junior and senior summers , she spent half of it with her Alaska team , half playing and living in Oregon .\"\n",
            "score:0.9090909090909091\n",
            "\n",
            "sentence1:\"The smallest number that can be represented in two positive and seventh ways as a sum of four different powers is 2056364173794800 .\"\n",
            "sentence2:\"The smallest number that can be represented as a sum of four positive seventh potences in two different ways is 2056364173794800 .\"\n",
            "score:0.875\n",
            "\n",
            "sentence1:\"His father emigrated to Missouri in 1868 , but returned when his wife became ill and before the rest of the family could go to America .\"\n",
            "sentence2:\"His father emigrated to Missouri in 1868 but returned when his wife became ill and before the rest of the family could also go to America .\"\n",
            "score:0.92\n",
            "\n",
            "sentence1:\"The Villa Pesquera facilities are owned by the Municipality of Ponce , but operated by the fishermen themselves .\"\n",
            "sentence2:\"The facilities of Villa Pesquera are operated by the Municipality of Ponce , but are owned by the fishermen .\"\n",
            "score:0.9375\n",
            "\n",
            "sentence1:\"It is situated south of Köroğlu Mountains and to the north of Bolu .\"\n",
            "sentence2:\"It is situated south of Köroğlu - mountains and north of the Bolu .\"\n",
            "score:0.8571428571428571\n",
            "\n"
          ]
        }
      ],
      "source": [
        "def lower_split(text):\n",
        "    text = set(text.lower().split())\n",
        "    return text\n",
        "def Jaccard_Similarity(doc1, doc2):\n",
        "    intersection = doc1.intersection(doc2)\n",
        "    union = doc1.union(doc2)\n",
        "    return float(len(intersection)) / len(union)\n",
        "for example in dataset['test'].select(range(10)):\n",
        "    sentence1 = example['sentence1']\n",
        "    sentence2 = example['sentence2']\n",
        "\n",
        "    doc1 = lower_split(sentence1)\n",
        "    doc2 = lower_split(sentence2)\n",
        "\n",
        "    similarity = Jaccard_Similarity(doc1, doc2)\n",
        "    print(f'sentence1:\"{sentence1}\"\\nsentence2:\"{sentence2}\"\\nscore:{similarity}\\n')"
      ]
    },
    {
      "cell_type": "code",
      "execution_count": 30,
      "metadata": {
        "colab": {
          "base_uri": "https://localhost:8080/"
        },
        "id": "dAPh_Ji9_CdZ",
        "outputId": "005935c2-c1aa-41b7-97f0-115d0fc032bc"
      },
      "outputs": [
        {
          "output_type": "stream",
          "name": "stdout",
          "text": [
            "Requirement already satisfied: nltk in /usr/local/lib/python3.10/dist-packages (3.8.1)\n",
            "Requirement already satisfied: click in /usr/local/lib/python3.10/dist-packages (from nltk) (8.1.7)\n",
            "Requirement already satisfied: joblib in /usr/local/lib/python3.10/dist-packages (from nltk) (1.4.2)\n",
            "Requirement already satisfied: regex>=2021.8.3 in /usr/local/lib/python3.10/dist-packages (from nltk) (2024.5.15)\n",
            "Requirement already satisfied: tqdm in /usr/local/lib/python3.10/dist-packages (from nltk) (4.66.4)\n"
          ]
        },
        {
          "output_type": "stream",
          "name": "stderr",
          "text": [
            "[nltk_data] Downloading package stopwords to /root/nltk_data...\n",
            "[nltk_data]   Package stopwords is already up-to-date!\n"
          ]
        }
      ],
      "source": [
        "!pip install nltk\n",
        "import nltk\n",
        "nltk.download('stopwords')\n",
        "from nltk.corpus import stopwords"
      ]
    },
    {
      "cell_type": "code",
      "execution_count": 31,
      "metadata": {
        "colab": {
          "base_uri": "https://localhost:8080/"
        },
        "id": "dRJXD-L-qhAj",
        "outputId": "48ed9d05-7943-4888-9a12-fa5b6f7bc851"
      },
      "outputs": [
        {
          "output_type": "stream",
          "name": "stdout",
          "text": [
            "sentence1:\"This was a series of nested angular standards , so that measurements in azimuth and elevation could be done directly in polar coordinates relative to the ecliptic .\"\n",
            "sentence2:\"This was a series of nested polar scales , so that measurements in azimuth and elevation could be performed directly in angular coordinates relative to the ecliptic .\"\n",
            "score:0.7777777777777778\n",
            "\n",
            "sentence1:\"His father emigrated to Missouri in 1868 but returned when his wife became ill and before the rest of the family could also go to America .\"\n",
            "sentence2:\"His father emigrated to America in 1868 , but returned when his wife became ill and before the rest of the family could go to Missouri .\"\n",
            "score:0.875\n",
            "\n",
            "sentence1:\"In January 2011 , the Deputy Secretary General of FIBA Asia , Hagop Khajirian , inspected the venue together with SBP - President Manuel V. Pangilinan .\"\n",
            "sentence2:\"In January 2011 , FIBA Asia deputy secretary general Hagop Khajirian along with SBP president Manuel V. Pangilinan inspected the venue .\"\n",
            "score:0.8571428571428571\n",
            "\n"
          ]
        }
      ],
      "source": [
        "stop_words = stopwords.words('english')\n",
        "def lower_split(text):\n",
        "    words = text.lower().split()\n",
        "    filtered_words = [word for word in words if word not in stop_words]\n",
        "    return set(filtered_words)\n",
        "def Jaccard_Similarity(doc1, doc2):\n",
        "    intersection = doc1.intersection(doc2)\n",
        "    union = doc1.union(doc2)\n",
        "    return float(len(intersection)) / len(union)\n",
        "\n",
        "for example in dataset['test'].select(range(3)):\n",
        "    sentence1 = example['sentence1']\n",
        "    sentence2 = example['sentence2']\n",
        "\n",
        "    doc1 = lower_split(sentence1)\n",
        "    doc2 = lower_split(sentence2)\n",
        "\n",
        "    similarity = Jaccard_Similarity(doc1, doc2)\n",
        "    print(f'sentence1:\"{sentence1}\"\\nsentence2:\"{sentence2}\"\\nscore:{similarity}\\n')\n",
        "\n"
      ]
    },
    {
      "cell_type": "markdown",
      "metadata": {
        "id": "97fbTs3YSbEF"
      },
      "source": [
        "#Using Sentence Transformers\n",
        "Resource Referred :\n",
        "\n",
        "1.  [sbert](https://www.sbert.net/docs/sentence_transformer/usage/semantic_textual_similarity.html)\n"
      ]
    },
    {
      "cell_type": "markdown",
      "metadata": {
        "id": "RMNJ3qzVri_-"
      },
      "source": [
        "1.  Installing **sentence-transformers**\n",
        "2.  **-q** is a flag used to supress the output during installation process\n"
      ]
    },
    {
      "cell_type": "code",
      "execution_count": 32,
      "metadata": {
        "collapsed": true,
        "id": "ewdS3baZpB0-"
      },
      "outputs": [],
      "source": [
        "%pip install sentence-transformers -q"
      ]
    },
    {
      "cell_type": "markdown",
      "metadata": {
        "id": "Bs0o0rWlrn1Z"
      },
      "source": [
        "1. Importing **SentenceTransformer** CLASS from **sentence_transformers**\n",
        "2. util is a module which includes functions such as cosine similarity\n",
        "1.  The **SentenceTransformer** Class is *instantiated* with **all-MiniLM-L6-v2**\n",
        " which generates the *vector* *representations* of given *sentence*"
      ]
    },
    {
      "cell_type": "code",
      "execution_count": 33,
      "metadata": {
        "colab": {
          "base_uri": "https://localhost:8080/"
        },
        "id": "EA7eUqRxpFZY",
        "outputId": "b7dade31-87a3-42ef-97af-1485a4c8ecb3"
      },
      "outputs": [
        {
          "output_type": "stream",
          "name": "stderr",
          "text": [
            "/usr/local/lib/python3.10/dist-packages/huggingface_hub/file_download.py:1132: FutureWarning: `resume_download` is deprecated and will be removed in version 1.0.0. Downloads always resume when possible. If you want to force a new download, use `force_download=True`.\n",
            "  warnings.warn(\n"
          ]
        }
      ],
      "source": [
        "from sentence_transformers import SentenceTransformer, util\n",
        "model = SentenceTransformer('all-MiniLM-L6-v2')"
      ]
    },
    {
      "cell_type": "markdown",
      "metadata": {
        "id": "i19Xp87grvJk"
      },
      "source": [
        "\n",
        "\n",
        "1.  Extracting the first 10 rows from 'sentence1' and 'sentence2' of test dataset\n",
        "2.  Generating vector representations/embeddings of sentence1 and sentence2 using SentenceTransformer model\n",
        "1. Then Calculating the cosine similarity between the vector representations/embeddings\n",
        "2. Using a for for iterating through the first 10 words printing sentences and similarity scores"
      ]
    },
    {
      "cell_type": "code",
      "execution_count": 34,
      "metadata": {
        "colab": {
          "base_uri": "https://localhost:8080/"
        },
        "id": "5Ct-at8DqGYW",
        "outputId": "54158770-8113-441a-f924-fb90569ca129"
      },
      "outputs": [
        {
          "output_type": "stream",
          "name": "stdout",
          "text": [
            "0.\n",
            "sentence1:This was a series of nested angular standards , so that measurements in azimuth and elevation could be done directly in polar coordinates relative to the ecliptic .\n",
            "sentence2:This was a series of nested polar scales , so that measurements in azimuth and elevation could be performed directly in angular coordinates relative to the ecliptic .\n",
            "cosine similarity score:0.9322909712791443\n",
            "\n",
            "1.\n",
            "sentence1:His father emigrated to Missouri in 1868 but returned when his wife became ill and before the rest of the family could also go to America .\n",
            "sentence2:His father emigrated to America in 1868 , but returned when his wife became ill and before the rest of the family could go to Missouri .\n",
            "cosine similarity score:0.9918644428253174\n",
            "\n",
            "2.\n",
            "sentence1:In January 2011 , the Deputy Secretary General of FIBA Asia , Hagop Khajirian , inspected the venue together with SBP - President Manuel V. Pangilinan .\n",
            "sentence2:In January 2011 , FIBA Asia deputy secretary general Hagop Khajirian along with SBP president Manuel V. Pangilinan inspected the venue .\n",
            "cosine similarity score:0.9833214282989502\n",
            "\n",
            "3.\n",
            "sentence1:Steiner argued that , in the right circumstances , the spiritual world can be explored through direct experience by practicing ethical and cognitive forms of rigorous self-discipline .\n",
            "sentence2:Steiner held that the spiritual world can be researched in the right circumstances through direct experience , by persons practicing rigorous forms of ethical and cognitive self-discipline .\n",
            "cosine similarity score:0.9308136105537415\n",
            "\n",
            "4.\n",
            "sentence1:Luciano Williames Dias ( born July 25 , 1970 ) is a Brazilian football coach and former player .\n",
            "sentence2:Luciano Williames Dias ( born 25 July 1970 ) is a former football coach and Brazilian player .\n",
            "cosine similarity score:0.9977067708969116\n",
            "\n",
            "5.\n",
            "sentence1:During her sophomore , junior and senior summers , she spent half of it with her Alaska team , and half playing , and living in Oregon .\n",
            "sentence2:During her second , junior and senior summers , she spent half of it with her Alaska team , half playing and living in Oregon .\n",
            "cosine similarity score:0.9820595979690552\n",
            "\n",
            "6.\n",
            "sentence1:The smallest number that can be represented in two positive and seventh ways as a sum of four different powers is 2056364173794800 .\n",
            "sentence2:The smallest number that can be represented as a sum of four positive seventh potences in two different ways is 2056364173794800 .\n",
            "cosine similarity score:0.8997796773910522\n",
            "\n",
            "7.\n",
            "sentence1:His father emigrated to Missouri in 1868 , but returned when his wife became ill and before the rest of the family could go to America .\n",
            "sentence2:His father emigrated to Missouri in 1868 but returned when his wife became ill and before the rest of the family could also go to America .\n",
            "cosine similarity score:0.9978699684143066\n",
            "\n",
            "8.\n",
            "sentence1:The Villa Pesquera facilities are owned by the Municipality of Ponce , but operated by the fishermen themselves .\n",
            "sentence2:The facilities of Villa Pesquera are operated by the Municipality of Ponce , but are owned by the fishermen .\n",
            "cosine similarity score:0.9942730665206909\n",
            "\n",
            "9.\n",
            "sentence1:It is situated south of Köroğlu Mountains and to the north of Bolu .\n",
            "sentence2:It is situated south of Köroğlu - mountains and north of the Bolu .\n",
            "cosine similarity score:0.9959350824356079\n",
            "\n"
          ]
        }
      ],
      "source": [
        "s1 = dataset['test']['sentence1'][:10]\n",
        "s2 = dataset['test']['sentence2'][:10]\n",
        "embeddings1 = model.encode(s1, convert_to_tensor=True)\n",
        "embeddings2 = model.encode(s2, convert_to_tensor=True)\n",
        "cosine_score = util.cos_sim(embeddings1,embeddings2)\n",
        "for i in range(10):\n",
        "  cosine_score_value = cosine_score[i][i].item()\n",
        "  print(f\"{i}.\\nsentence1:{s1[i]}\\nsentence2:{s2[i]}\\ncosine similarity score:{cosine_score_value}\\n\")\n"
      ]
    },
    {
      "cell_type": "code",
      "source": [
        "import numpy as np\n",
        "from sklearn.metrics import confusion_matrix\n",
        "\n",
        "s1 = dataset['test']['sentence1'][:300]\n",
        "s2 = dataset['test']['sentence2'][:300]\n",
        "labels = dataset['test']['label'][:300]\n",
        "\n",
        "embeddings1 = model.encode(s1, convert_to_tensor=True)\n",
        "embeddings2 = model.encode(s2, convert_to_tensor=True)\n",
        "cosine_scores = util.cos_sim(embeddings1, embeddings2)\n",
        "\n",
        "predictions = [1 if sim >= threshold else 0 for sim in similarities]\n",
        "\n",
        "threshold = 0.8\n",
        "conf_matrix = confusion_matrix(labels, predictions)\n",
        "accuracy = accuracy_score(labels, predictions)\n",
        "precision = precision_score(labels, predictions)\n",
        "recall = recall_score(labels, predictions)\n",
        "mse = mean_squared_error(labels, predictions)\n",
        "print(\"Confusion Matrix:\")\n",
        "print(conf_matrix)\n",
        "print(\"accuracy:\", accuracy)\n",
        "print(\"precision:\", precision)\n",
        "print(\"recall:\", recall)"
      ],
      "metadata": {
        "colab": {
          "base_uri": "https://localhost:8080/"
        },
        "id": "YcvHAIZHISQh",
        "outputId": "c6206ff4-74db-4adf-cb4d-25f81ee80afc"
      },
      "execution_count": 41,
      "outputs": [
        {
          "output_type": "stream",
          "name": "stdout",
          "text": [
            "Confusion Matrix:\n",
            "[[  0 173]\n",
            " [  0 127]]\n",
            "accuracy: 0.42333333333333334\n",
            "precision: 0.42333333333333334\n",
            "recall: 1.0\n"
          ]
        }
      ]
    },
    {
      "cell_type": "markdown",
      "metadata": {
        "id": "mWq43BhISTHd"
      },
      "source": [
        "#Using Spacy Similiarity"
      ]
    },
    {
      "cell_type": "markdown",
      "metadata": {
        "id": "xT9E_W9inOkt"
      },
      "source": [
        "\n",
        "\n",
        "1.  Using pip to install spacy library\n",
        "2.  Using 'python -m spacy' which means to run spacy module\n",
        "2.   Downloading en_core_web_md which is Medium-sized English model\n",
        "\n"
      ]
    },
    {
      "cell_type": "code",
      "execution_count": 5,
      "metadata": {
        "colab": {
          "base_uri": "https://localhost:8080/"
        },
        "collapsed": true,
        "id": "KnIT1M4uQi35",
        "outputId": "91dcdf6b-a3ab-49d2-ce0e-9cf6a80c6310"
      },
      "outputs": [
        {
          "output_type": "stream",
          "name": "stdout",
          "text": [
            "Requirement already satisfied: spacy in /usr/local/lib/python3.10/dist-packages (3.7.5)\n",
            "Requirement already satisfied: spacy-legacy<3.1.0,>=3.0.11 in /usr/local/lib/python3.10/dist-packages (from spacy) (3.0.12)\n",
            "Requirement already satisfied: spacy-loggers<2.0.0,>=1.0.0 in /usr/local/lib/python3.10/dist-packages (from spacy) (1.0.5)\n",
            "Requirement already satisfied: murmurhash<1.1.0,>=0.28.0 in /usr/local/lib/python3.10/dist-packages (from spacy) (1.0.10)\n",
            "Requirement already satisfied: cymem<2.1.0,>=2.0.2 in /usr/local/lib/python3.10/dist-packages (from spacy) (2.0.8)\n",
            "Requirement already satisfied: preshed<3.1.0,>=3.0.2 in /usr/local/lib/python3.10/dist-packages (from spacy) (3.0.9)\n",
            "Requirement already satisfied: thinc<8.3.0,>=8.2.2 in /usr/local/lib/python3.10/dist-packages (from spacy) (8.2.5)\n",
            "Requirement already satisfied: wasabi<1.2.0,>=0.9.1 in /usr/local/lib/python3.10/dist-packages (from spacy) (1.1.3)\n",
            "Requirement already satisfied: srsly<3.0.0,>=2.4.3 in /usr/local/lib/python3.10/dist-packages (from spacy) (2.4.8)\n",
            "Requirement already satisfied: catalogue<2.1.0,>=2.0.6 in /usr/local/lib/python3.10/dist-packages (from spacy) (2.0.10)\n",
            "Requirement already satisfied: weasel<0.5.0,>=0.1.0 in /usr/local/lib/python3.10/dist-packages (from spacy) (0.4.1)\n",
            "Requirement already satisfied: typer<1.0.0,>=0.3.0 in /usr/local/lib/python3.10/dist-packages (from spacy) (0.12.3)\n",
            "Requirement already satisfied: tqdm<5.0.0,>=4.38.0 in /usr/local/lib/python3.10/dist-packages (from spacy) (4.66.4)\n",
            "Requirement already satisfied: requests<3.0.0,>=2.13.0 in /usr/local/lib/python3.10/dist-packages (from spacy) (2.32.3)\n",
            "Requirement already satisfied: pydantic!=1.8,!=1.8.1,<3.0.0,>=1.7.4 in /usr/local/lib/python3.10/dist-packages (from spacy) (2.8.0)\n",
            "Requirement already satisfied: jinja2 in /usr/local/lib/python3.10/dist-packages (from spacy) (3.1.4)\n",
            "Requirement already satisfied: setuptools in /usr/local/lib/python3.10/dist-packages (from spacy) (67.7.2)\n",
            "Requirement already satisfied: packaging>=20.0 in /usr/local/lib/python3.10/dist-packages (from spacy) (24.1)\n",
            "Requirement already satisfied: langcodes<4.0.0,>=3.2.0 in /usr/local/lib/python3.10/dist-packages (from spacy) (3.4.0)\n",
            "Requirement already satisfied: numpy>=1.19.0 in /usr/local/lib/python3.10/dist-packages (from spacy) (1.25.2)\n",
            "Requirement already satisfied: language-data>=1.2 in /usr/local/lib/python3.10/dist-packages (from langcodes<4.0.0,>=3.2.0->spacy) (1.2.0)\n",
            "Requirement already satisfied: annotated-types>=0.4.0 in /usr/local/lib/python3.10/dist-packages (from pydantic!=1.8,!=1.8.1,<3.0.0,>=1.7.4->spacy) (0.7.0)\n",
            "Requirement already satisfied: pydantic-core==2.20.0 in /usr/local/lib/python3.10/dist-packages (from pydantic!=1.8,!=1.8.1,<3.0.0,>=1.7.4->spacy) (2.20.0)\n",
            "Requirement already satisfied: typing-extensions>=4.6.1 in /usr/local/lib/python3.10/dist-packages (from pydantic!=1.8,!=1.8.1,<3.0.0,>=1.7.4->spacy) (4.12.2)\n",
            "Requirement already satisfied: charset-normalizer<4,>=2 in /usr/local/lib/python3.10/dist-packages (from requests<3.0.0,>=2.13.0->spacy) (3.3.2)\n",
            "Requirement already satisfied: idna<4,>=2.5 in /usr/local/lib/python3.10/dist-packages (from requests<3.0.0,>=2.13.0->spacy) (3.7)\n",
            "Requirement already satisfied: urllib3<3,>=1.21.1 in /usr/local/lib/python3.10/dist-packages (from requests<3.0.0,>=2.13.0->spacy) (2.0.7)\n",
            "Requirement already satisfied: certifi>=2017.4.17 in /usr/local/lib/python3.10/dist-packages (from requests<3.0.0,>=2.13.0->spacy) (2024.6.2)\n",
            "Requirement already satisfied: blis<0.8.0,>=0.7.8 in /usr/local/lib/python3.10/dist-packages (from thinc<8.3.0,>=8.2.2->spacy) (0.7.11)\n",
            "Requirement already satisfied: confection<1.0.0,>=0.0.1 in /usr/local/lib/python3.10/dist-packages (from thinc<8.3.0,>=8.2.2->spacy) (0.1.5)\n",
            "Requirement already satisfied: click>=8.0.0 in /usr/local/lib/python3.10/dist-packages (from typer<1.0.0,>=0.3.0->spacy) (8.1.7)\n",
            "Requirement already satisfied: shellingham>=1.3.0 in /usr/local/lib/python3.10/dist-packages (from typer<1.0.0,>=0.3.0->spacy) (1.5.4)\n",
            "Requirement already satisfied: rich>=10.11.0 in /usr/local/lib/python3.10/dist-packages (from typer<1.0.0,>=0.3.0->spacy) (13.7.1)\n",
            "Requirement already satisfied: cloudpathlib<1.0.0,>=0.7.0 in /usr/local/lib/python3.10/dist-packages (from weasel<0.5.0,>=0.1.0->spacy) (0.18.1)\n",
            "Requirement already satisfied: smart-open<8.0.0,>=5.2.1 in /usr/local/lib/python3.10/dist-packages (from weasel<0.5.0,>=0.1.0->spacy) (7.0.4)\n",
            "Requirement already satisfied: MarkupSafe>=2.0 in /usr/local/lib/python3.10/dist-packages (from jinja2->spacy) (2.1.5)\n",
            "Requirement already satisfied: marisa-trie>=0.7.7 in /usr/local/lib/python3.10/dist-packages (from language-data>=1.2->langcodes<4.0.0,>=3.2.0->spacy) (1.2.0)\n",
            "Requirement already satisfied: markdown-it-py>=2.2.0 in /usr/local/lib/python3.10/dist-packages (from rich>=10.11.0->typer<1.0.0,>=0.3.0->spacy) (3.0.0)\n",
            "Requirement already satisfied: pygments<3.0.0,>=2.13.0 in /usr/local/lib/python3.10/dist-packages (from rich>=10.11.0->typer<1.0.0,>=0.3.0->spacy) (2.16.1)\n",
            "Requirement already satisfied: wrapt in /usr/local/lib/python3.10/dist-packages (from smart-open<8.0.0,>=5.2.1->weasel<0.5.0,>=0.1.0->spacy) (1.14.1)\n",
            "Requirement already satisfied: mdurl~=0.1 in /usr/local/lib/python3.10/dist-packages (from markdown-it-py>=2.2.0->rich>=10.11.0->typer<1.0.0,>=0.3.0->spacy) (0.1.2)\n",
            "Collecting en-core-web-lg==3.7.1\n",
            "  Downloading https://github.com/explosion/spacy-models/releases/download/en_core_web_lg-3.7.1/en_core_web_lg-3.7.1-py3-none-any.whl (587.7 MB)\n",
            "\u001b[2K     \u001b[90m━━━━━━━━━━━━━━━━━━━━━━━━━━━━━━━━━━━━━━━━\u001b[0m \u001b[32m587.7/587.7 MB\u001b[0m \u001b[31m1.2 MB/s\u001b[0m eta \u001b[36m0:00:00\u001b[0m\n",
            "\u001b[?25hRequirement already satisfied: spacy<3.8.0,>=3.7.2 in /usr/local/lib/python3.10/dist-packages (from en-core-web-lg==3.7.1) (3.7.5)\n",
            "Requirement already satisfied: spacy-legacy<3.1.0,>=3.0.11 in /usr/local/lib/python3.10/dist-packages (from spacy<3.8.0,>=3.7.2->en-core-web-lg==3.7.1) (3.0.12)\n",
            "Requirement already satisfied: spacy-loggers<2.0.0,>=1.0.0 in /usr/local/lib/python3.10/dist-packages (from spacy<3.8.0,>=3.7.2->en-core-web-lg==3.7.1) (1.0.5)\n",
            "Requirement already satisfied: murmurhash<1.1.0,>=0.28.0 in /usr/local/lib/python3.10/dist-packages (from spacy<3.8.0,>=3.7.2->en-core-web-lg==3.7.1) (1.0.10)\n",
            "Requirement already satisfied: cymem<2.1.0,>=2.0.2 in /usr/local/lib/python3.10/dist-packages (from spacy<3.8.0,>=3.7.2->en-core-web-lg==3.7.1) (2.0.8)\n",
            "Requirement already satisfied: preshed<3.1.0,>=3.0.2 in /usr/local/lib/python3.10/dist-packages (from spacy<3.8.0,>=3.7.2->en-core-web-lg==3.7.1) (3.0.9)\n",
            "Requirement already satisfied: thinc<8.3.0,>=8.2.2 in /usr/local/lib/python3.10/dist-packages (from spacy<3.8.0,>=3.7.2->en-core-web-lg==3.7.1) (8.2.5)\n",
            "Requirement already satisfied: wasabi<1.2.0,>=0.9.1 in /usr/local/lib/python3.10/dist-packages (from spacy<3.8.0,>=3.7.2->en-core-web-lg==3.7.1) (1.1.3)\n",
            "Requirement already satisfied: srsly<3.0.0,>=2.4.3 in /usr/local/lib/python3.10/dist-packages (from spacy<3.8.0,>=3.7.2->en-core-web-lg==3.7.1) (2.4.8)\n",
            "Requirement already satisfied: catalogue<2.1.0,>=2.0.6 in /usr/local/lib/python3.10/dist-packages (from spacy<3.8.0,>=3.7.2->en-core-web-lg==3.7.1) (2.0.10)\n",
            "Requirement already satisfied: weasel<0.5.0,>=0.1.0 in /usr/local/lib/python3.10/dist-packages (from spacy<3.8.0,>=3.7.2->en-core-web-lg==3.7.1) (0.4.1)\n",
            "Requirement already satisfied: typer<1.0.0,>=0.3.0 in /usr/local/lib/python3.10/dist-packages (from spacy<3.8.0,>=3.7.2->en-core-web-lg==3.7.1) (0.12.3)\n",
            "Requirement already satisfied: tqdm<5.0.0,>=4.38.0 in /usr/local/lib/python3.10/dist-packages (from spacy<3.8.0,>=3.7.2->en-core-web-lg==3.7.1) (4.66.4)\n",
            "Requirement already satisfied: requests<3.0.0,>=2.13.0 in /usr/local/lib/python3.10/dist-packages (from spacy<3.8.0,>=3.7.2->en-core-web-lg==3.7.1) (2.32.3)\n",
            "Requirement already satisfied: pydantic!=1.8,!=1.8.1,<3.0.0,>=1.7.4 in /usr/local/lib/python3.10/dist-packages (from spacy<3.8.0,>=3.7.2->en-core-web-lg==3.7.1) (2.8.0)\n",
            "Requirement already satisfied: jinja2 in /usr/local/lib/python3.10/dist-packages (from spacy<3.8.0,>=3.7.2->en-core-web-lg==3.7.1) (3.1.4)\n",
            "Requirement already satisfied: setuptools in /usr/local/lib/python3.10/dist-packages (from spacy<3.8.0,>=3.7.2->en-core-web-lg==3.7.1) (67.7.2)\n",
            "Requirement already satisfied: packaging>=20.0 in /usr/local/lib/python3.10/dist-packages (from spacy<3.8.0,>=3.7.2->en-core-web-lg==3.7.1) (24.1)\n",
            "Requirement already satisfied: langcodes<4.0.0,>=3.2.0 in /usr/local/lib/python3.10/dist-packages (from spacy<3.8.0,>=3.7.2->en-core-web-lg==3.7.1) (3.4.0)\n",
            "Requirement already satisfied: numpy>=1.19.0 in /usr/local/lib/python3.10/dist-packages (from spacy<3.8.0,>=3.7.2->en-core-web-lg==3.7.1) (1.25.2)\n",
            "Requirement already satisfied: language-data>=1.2 in /usr/local/lib/python3.10/dist-packages (from langcodes<4.0.0,>=3.2.0->spacy<3.8.0,>=3.7.2->en-core-web-lg==3.7.1) (1.2.0)\n",
            "Requirement already satisfied: annotated-types>=0.4.0 in /usr/local/lib/python3.10/dist-packages (from pydantic!=1.8,!=1.8.1,<3.0.0,>=1.7.4->spacy<3.8.0,>=3.7.2->en-core-web-lg==3.7.1) (0.7.0)\n",
            "Requirement already satisfied: pydantic-core==2.20.0 in /usr/local/lib/python3.10/dist-packages (from pydantic!=1.8,!=1.8.1,<3.0.0,>=1.7.4->spacy<3.8.0,>=3.7.2->en-core-web-lg==3.7.1) (2.20.0)\n",
            "Requirement already satisfied: typing-extensions>=4.6.1 in /usr/local/lib/python3.10/dist-packages (from pydantic!=1.8,!=1.8.1,<3.0.0,>=1.7.4->spacy<3.8.0,>=3.7.2->en-core-web-lg==3.7.1) (4.12.2)\n",
            "Requirement already satisfied: charset-normalizer<4,>=2 in /usr/local/lib/python3.10/dist-packages (from requests<3.0.0,>=2.13.0->spacy<3.8.0,>=3.7.2->en-core-web-lg==3.7.1) (3.3.2)\n",
            "Requirement already satisfied: idna<4,>=2.5 in /usr/local/lib/python3.10/dist-packages (from requests<3.0.0,>=2.13.0->spacy<3.8.0,>=3.7.2->en-core-web-lg==3.7.1) (3.7)\n",
            "Requirement already satisfied: urllib3<3,>=1.21.1 in /usr/local/lib/python3.10/dist-packages (from requests<3.0.0,>=2.13.0->spacy<3.8.0,>=3.7.2->en-core-web-lg==3.7.1) (2.0.7)\n",
            "Requirement already satisfied: certifi>=2017.4.17 in /usr/local/lib/python3.10/dist-packages (from requests<3.0.0,>=2.13.0->spacy<3.8.0,>=3.7.2->en-core-web-lg==3.7.1) (2024.6.2)\n",
            "Requirement already satisfied: blis<0.8.0,>=0.7.8 in /usr/local/lib/python3.10/dist-packages (from thinc<8.3.0,>=8.2.2->spacy<3.8.0,>=3.7.2->en-core-web-lg==3.7.1) (0.7.11)\n",
            "Requirement already satisfied: confection<1.0.0,>=0.0.1 in /usr/local/lib/python3.10/dist-packages (from thinc<8.3.0,>=8.2.2->spacy<3.8.0,>=3.7.2->en-core-web-lg==3.7.1) (0.1.5)\n",
            "Requirement already satisfied: click>=8.0.0 in /usr/local/lib/python3.10/dist-packages (from typer<1.0.0,>=0.3.0->spacy<3.8.0,>=3.7.2->en-core-web-lg==3.7.1) (8.1.7)\n",
            "Requirement already satisfied: shellingham>=1.3.0 in /usr/local/lib/python3.10/dist-packages (from typer<1.0.0,>=0.3.0->spacy<3.8.0,>=3.7.2->en-core-web-lg==3.7.1) (1.5.4)\n",
            "Requirement already satisfied: rich>=10.11.0 in /usr/local/lib/python3.10/dist-packages (from typer<1.0.0,>=0.3.0->spacy<3.8.0,>=3.7.2->en-core-web-lg==3.7.1) (13.7.1)\n",
            "Requirement already satisfied: cloudpathlib<1.0.0,>=0.7.0 in /usr/local/lib/python3.10/dist-packages (from weasel<0.5.0,>=0.1.0->spacy<3.8.0,>=3.7.2->en-core-web-lg==3.7.1) (0.18.1)\n",
            "Requirement already satisfied: smart-open<8.0.0,>=5.2.1 in /usr/local/lib/python3.10/dist-packages (from weasel<0.5.0,>=0.1.0->spacy<3.8.0,>=3.7.2->en-core-web-lg==3.7.1) (7.0.4)\n",
            "Requirement already satisfied: MarkupSafe>=2.0 in /usr/local/lib/python3.10/dist-packages (from jinja2->spacy<3.8.0,>=3.7.2->en-core-web-lg==3.7.1) (2.1.5)\n",
            "Requirement already satisfied: marisa-trie>=0.7.7 in /usr/local/lib/python3.10/dist-packages (from language-data>=1.2->langcodes<4.0.0,>=3.2.0->spacy<3.8.0,>=3.7.2->en-core-web-lg==3.7.1) (1.2.0)\n",
            "Requirement already satisfied: markdown-it-py>=2.2.0 in /usr/local/lib/python3.10/dist-packages (from rich>=10.11.0->typer<1.0.0,>=0.3.0->spacy<3.8.0,>=3.7.2->en-core-web-lg==3.7.1) (3.0.0)\n",
            "Requirement already satisfied: pygments<3.0.0,>=2.13.0 in /usr/local/lib/python3.10/dist-packages (from rich>=10.11.0->typer<1.0.0,>=0.3.0->spacy<3.8.0,>=3.7.2->en-core-web-lg==3.7.1) (2.16.1)\n",
            "Requirement already satisfied: wrapt in /usr/local/lib/python3.10/dist-packages (from smart-open<8.0.0,>=5.2.1->weasel<0.5.0,>=0.1.0->spacy<3.8.0,>=3.7.2->en-core-web-lg==3.7.1) (1.14.1)\n",
            "Requirement already satisfied: mdurl~=0.1 in /usr/local/lib/python3.10/dist-packages (from markdown-it-py>=2.2.0->rich>=10.11.0->typer<1.0.0,>=0.3.0->spacy<3.8.0,>=3.7.2->en-core-web-lg==3.7.1) (0.1.2)\n",
            "\u001b[38;5;2m✔ Download and installation successful\u001b[0m\n",
            "You can now load the package via spacy.load('en_core_web_lg')\n",
            "\u001b[38;5;3m⚠ Restart to reload dependencies\u001b[0m\n",
            "If you are in a Jupyter or Colab notebook, you may need to restart Python in\n",
            "order to load all the package's dependencies. You can do this by selecting the\n",
            "'Restart kernel' or 'Restart runtime' option.\n"
          ]
        }
      ],
      "source": [
        "!pip install spacy\n",
        "!python -m spacy download en_core_web_lg"
      ]
    },
    {
      "cell_type": "markdown",
      "metadata": {
        "id": "3vwtZU7lnZOF"
      },
      "source": [
        "1.   Importing spacy library\n",
        "2.   loading en_core_web_md i.e medium sized english pre-trained model\n"
      ]
    },
    {
      "cell_type": "code",
      "execution_count": 6,
      "metadata": {
        "id": "-RSE4kwqQm6D"
      },
      "outputs": [],
      "source": [
        "import spacy\n",
        "nlp = spacy.load('en_core_web_lg')"
      ]
    },
    {
      "cell_type": "markdown",
      "metadata": {
        "id": "PGW1iShNna5I"
      },
      "source": [
        "1. Extracting the first 10 rows from 'sentence1' and 'sentence2' of test dataset\n",
        "2. Initialize an empty list named 'similarities'\n",
        "1. Using a for loop to iterate over the first 10 words then\n",
        "> applying nlp for 'sentence1 and 'sentence2' which creates a spacy document\n",
        "\n",
        " >  we use similarity method to find the similarity scores of'sentence1' and 'sentence2'\n",
        "\n",
        " > print the similarity score\n"
      ]
    },
    {
      "cell_type": "code",
      "execution_count": 38,
      "metadata": {
        "colab": {
          "base_uri": "https://localhost:8080/"
        },
        "id": "9oNJaYmWQro8",
        "outputId": "9302b211-d973-46bd-b63b-a66644650496",
        "collapsed": true
      },
      "outputs": [
        {
          "output_type": "stream",
          "name": "stdout",
          "text": [
            "sentence1:\"This was a series of nested angular standards , so that measurements in azimuth and elevation could be done directly in polar coordinates relative to the ecliptic .\"\n",
            "sentence2:\"This was a series of nested polar scales , so that measurements in azimuth and elevation could be performed directly in angular coordinates relative to the ecliptic .\" \n",
            "score:0.9972708891272399\n",
            "\n",
            "sentence1:\"His father emigrated to Missouri in 1868 but returned when his wife became ill and before the rest of the family could also go to America .\"\n",
            "sentence2:\"His father emigrated to America in 1868 , but returned when his wife became ill and before the rest of the family could go to Missouri .\" \n",
            "score:0.997916950603778\n",
            "\n",
            "sentence1:\"In January 2011 , the Deputy Secretary General of FIBA Asia , Hagop Khajirian , inspected the venue together with SBP - President Manuel V. Pangilinan .\"\n",
            "sentence2:\"In January 2011 , FIBA Asia deputy secretary general Hagop Khajirian along with SBP president Manuel V. Pangilinan inspected the venue .\" \n",
            "score:0.9593750199517147\n",
            "\n",
            "sentence1:\"Steiner argued that , in the right circumstances , the spiritual world can be explored through direct experience by practicing ethical and cognitive forms of rigorous self-discipline .\"\n",
            "sentence2:\"Steiner held that the spiritual world can be researched in the right circumstances through direct experience , by persons practicing rigorous forms of ethical and cognitive self-discipline .\" \n",
            "score:0.9947649188483852\n",
            "\n",
            "sentence1:\"Luciano Williames Dias ( born July 25 , 1970 ) is a Brazilian football coach and former player .\"\n",
            "sentence2:\"Luciano Williames Dias ( born 25 July 1970 ) is a former football coach and Brazilian player .\" \n",
            "score:0.9940504549479734\n",
            "\n",
            "sentence1:\"During her sophomore , junior and senior summers , she spent half of it with her Alaska team , and half playing , and living in Oregon .\"\n",
            "sentence2:\"During her second , junior and senior summers , she spent half of it with her Alaska team , half playing and living in Oregon .\" \n",
            "score:0.9958441567709652\n",
            "\n",
            "sentence1:\"The smallest number that can be represented in two positive and seventh ways as a sum of four different powers is 2056364173794800 .\"\n",
            "sentence2:\"The smallest number that can be represented as a sum of four positive seventh potences in two different ways is 2056364173794800 .\" \n",
            "score:0.9962784546419491\n",
            "\n",
            "sentence1:\"His father emigrated to Missouri in 1868 , but returned when his wife became ill and before the rest of the family could go to America .\"\n",
            "sentence2:\"His father emigrated to Missouri in 1868 but returned when his wife became ill and before the rest of the family could also go to America .\" \n",
            "score:0.9979169503764271\n",
            "\n",
            "sentence1:\"The Villa Pesquera facilities are owned by the Municipality of Ponce , but operated by the fishermen themselves .\"\n",
            "sentence2:\"The facilities of Villa Pesquera are operated by the Municipality of Ponce , but are owned by the fishermen .\" \n",
            "score:0.9875625369863088\n",
            "\n",
            "sentence1:\"It is situated south of Köroğlu Mountains and to the north of Bolu .\"\n",
            "sentence2:\"It is situated south of Köroğlu - mountains and north of the Bolu .\" \n",
            "score:0.9617732491548924\n",
            "\n"
          ]
        }
      ],
      "source": [
        "p1 = dataset['test']['sentence1'][:10]\n",
        "p2 = dataset['test']['sentence2'][:10]\n",
        "\n",
        "for sentence1,sentence2 in zip(p1,p2):\n",
        "  W1 = nlp(sentence1)\n",
        "  W2 = nlp(sentence2)\n",
        "  Similarity = W1.similarity(W2)\n",
        "  print(f'sentence1:\"{sentence1}\"\\nsentence2:\"{sentence2}\" \\nscore:{Similarity}\\n')"
      ]
    },
    {
      "cell_type": "code",
      "source": [
        "import pandas as pd\n",
        "import spacy\n",
        "from sklearn.metrics import confusion_matrix, accuracy_score, precision_score, recall_score, mean_squared_error\n",
        "nlp = spacy.load('en_core_web_lg')\n",
        "\n",
        "p1 = dataset['test']['sentence1'][:300]\n",
        "p2 = dataset['test']['sentence2'][:300]\n",
        "labels = dataset['test']['label'][:300]\n",
        "\n",
        "similarities = []\n",
        "\n",
        "for sentence1, sentence2 in zip(p1, p2):\n",
        "    doc1 = nlp(sentence1)\n",
        "    doc2 = nlp(sentence2)\n",
        "    similarity = doc1.similarity(doc2)\n",
        "    similarities.append(similarity)\n",
        "\n",
        "threshold = 0.8\n",
        "\n",
        "predictions = [1 if sim >= threshold else 0 for sim in similarities]\n",
        "\n",
        "conf_matrix = confusion_matrix(labels, predictions)\n",
        "accuracy = accuracy_score(labels, predictions)\n",
        "precision = precision_score(labels, predictions)\n",
        "recall = recall_score(labels, predictions)\n",
        "print(\"Confusion Matrix:\")\n",
        "print(conf_matrix)\n",
        "print(\"accuracy:\", accuracy)\n",
        "print(\"precision:\", precision)\n",
        "print(\"recall:\", recall)"
      ],
      "metadata": {
        "colab": {
          "base_uri": "https://localhost:8080/"
        },
        "id": "C42cSdBkBZBz",
        "outputId": "37b67f33-9abd-4518-c825-44e4cea4f291"
      },
      "execution_count": 42,
      "outputs": [
        {
          "output_type": "stream",
          "name": "stdout",
          "text": [
            "Confusion Matrix:\n",
            "[[  0 173]\n",
            " [  0 127]]\n",
            "accuracy: 0.42333333333333334\n",
            "precision: 0.42333333333333334\n",
            "recall: 1.0\n"
          ]
        }
      ]
    },
    {
      "cell_type": "code",
      "source": [
        "from sentence_transformers import SentenceTransformer\n",
        "\n",
        "word = \"apple\"\n",
        "\n",
        "model = SentenceTransformer('all-MiniLM-L6-v2')\n",
        "\n",
        "embedding = model.encode(word, convert_to_tensor=True)\n",
        "print(f\"Word: '{word}'\")\n",
        "print(f\"Numerical Representation (Embedding): {embedding}\")\n",
        "print(f\"Dimensions of the embedding: {embedding.size(0)}\")\n"
      ],
      "metadata": {
        "colab": {
          "base_uri": "https://localhost:8080/"
        },
        "collapsed": true,
        "id": "9oXJbh1Aq1wu",
        "outputId": "3e49b96a-8e57-4ba4-cb84-191e97889966"
      },
      "execution_count": 12,
      "outputs": [
        {
          "output_type": "stream",
          "name": "stdout",
          "text": [
            "Word: 'apple'\n",
            "Numerical Representation (Embedding): tensor([-6.1385e-03,  3.1012e-02,  6.4794e-02,  1.0941e-02,  5.2672e-03,\n",
            "        -4.7476e-02,  8.1203e-02,  2.8981e-02,  6.6762e-02,  3.0300e-02,\n",
            "         5.7465e-02, -8.6235e-03,  1.3228e-03,  3.9918e-04, -1.8843e-02,\n",
            "        -2.5794e-02, -1.3042e-02, -5.2625e-02, -5.8293e-02, -2.5899e-02,\n",
            "        -3.3374e-02,  2.4568e-02, -5.2266e-03,  2.3006e-02,  3.2861e-02,\n",
            "         7.5022e-02,  5.8018e-03, -1.4959e-02, -2.8753e-02, -1.1855e-01,\n",
            "        -3.9322e-02, -5.1388e-02,  7.6618e-02,  4.8404e-02, -3.0256e-02,\n",
            "        -9.1434e-02,  5.1182e-02, -9.6496e-03, -2.1511e-02, -7.1774e-02,\n",
            "        -6.3224e-02, -1.7669e-02,  2.8081e-02,  9.0047e-02,  1.9418e-02,\n",
            "         5.4544e-03,  4.8302e-02,  8.4909e-03,  2.7751e-02,  9.6561e-02,\n",
            "         2.6303e-02, -3.0533e-02, -6.8816e-02, -6.0341e-03, -5.6750e-03,\n",
            "         7.8915e-03, -1.2150e-02,  3.0511e-02,  8.9591e-02,  5.5678e-02,\n",
            "         2.4089e-02, -1.0735e-01, -3.3460e-02,  4.5137e-02,  3.0472e-02,\n",
            "        -1.3144e-02, -4.7478e-02, -1.8302e-02, -5.7338e-02, -6.6808e-02,\n",
            "         3.1542e-02, -1.9029e-02,  5.1331e-02,  5.2862e-02,  2.0831e-02,\n",
            "         1.0578e-02,  7.5423e-02, -5.7646e-02, -4.9733e-03, -2.0931e-02,\n",
            "        -2.7561e-02,  1.4516e-02, -1.0757e-01,  4.4836e-02,  2.2910e-02,\n",
            "        -2.6643e-02, -4.8391e-02,  2.0416e-02, -6.7385e-02,  1.2496e-02,\n",
            "        -6.5679e-02,  4.3509e-02,  4.6211e-02, -3.2369e-02, -3.5424e-02,\n",
            "         1.6220e-02,  1.1815e-03, -7.7638e-02, -9.4755e-02,  2.2383e-01,\n",
            "         1.2383e-02,  4.6460e-02,  1.3210e-02,  2.4925e-02,  6.3597e-02,\n",
            "        -6.5884e-02, -7.7030e-02,  1.5216e-02,  2.5661e-02,  9.9423e-02,\n",
            "         4.6578e-02, -7.9090e-02, -1.1972e-01,  2.0123e-02,  2.8020e-02,\n",
            "        -4.3008e-02, -2.5948e-02,  7.5711e-02,  5.8572e-02, -2.2522e-02,\n",
            "        -3.2933e-02,  5.9135e-02, -9.7538e-03, -3.6230e-02, -1.0333e-01,\n",
            "        -1.8460e-02, -3.2019e-02, -4.2750e-33,  2.9925e-03, -1.9289e-02,\n",
            "         4.2235e-02, -2.3131e-02, -4.6558e-02, -4.2731e-02,  7.2170e-03,\n",
            "         6.6165e-02, -5.4303e-03,  3.6181e-02, -3.7112e-02, -2.9162e-02,\n",
            "        -8.0260e-02, -5.5877e-03,  1.6086e-01, -2.4542e-02, -1.3714e-02,\n",
            "         7.9082e-03, -5.1523e-02,  2.7025e-03, -2.0033e-03, -1.3435e-02,\n",
            "        -2.1031e-04,  2.9283e-02, -5.7763e-02, -5.6580e-02,  2.4578e-02,\n",
            "        -6.4781e-02,  7.4058e-02, -6.4186e-04, -1.4514e-04,  1.4453e-02,\n",
            "         1.3506e-02, -1.1730e-01, -4.5858e-02, -3.3933e-02,  7.1760e-03,\n",
            "        -5.1501e-02,  6.2566e-02,  3.1597e-02, -9.7077e-02, -1.9339e-03,\n",
            "         3.8074e-02,  8.5258e-03,  8.8899e-02,  2.6826e-02,  4.1965e-03,\n",
            "         6.2851e-02, -3.8966e-02,  3.4503e-02, -9.5461e-02, -1.3941e-02,\n",
            "         5.4269e-02,  8.1435e-03, -3.8086e-02, -1.2588e-02,  4.0387e-02,\n",
            "         5.2214e-03,  6.7143e-03,  4.4050e-02,  3.4258e-03,  9.3484e-02,\n",
            "         1.5321e-02,  6.0689e-02, -4.6434e-02,  7.9070e-02,  6.0614e-02,\n",
            "        -3.9429e-02, -6.7747e-02,  6.6975e-02, -5.9184e-02,  3.1891e-03,\n",
            "         4.8767e-02, -2.4690e-02, -6.3393e-02, -1.1395e-03, -4.0278e-02,\n",
            "         8.9631e-03, -8.8347e-02, -2.1099e-02, -4.6535e-02,  3.5633e-03,\n",
            "        -1.1567e-03,  1.1065e-01, -2.2095e-02,  6.5715e-02, -5.7650e-02,\n",
            "        -4.0351e-02,  2.6730e-02,  6.3163e-02, -8.5409e-02,  1.3538e-02,\n",
            "         1.1229e-02, -3.2994e-03, -7.6343e-02,  2.9000e-33, -4.0514e-02,\n",
            "        -1.0674e-01, -1.2907e-02,  1.6241e-02,  3.2387e-02, -4.2531e-02,\n",
            "        -2.0738e-02,  2.3780e-02, -1.0962e-01,  1.1426e-02, -2.7052e-02,\n",
            "        -7.7063e-03,  7.2697e-02, -2.4619e-02, -2.1332e-02,  4.9201e-02,\n",
            "         1.2454e-02, -3.8190e-02,  3.3478e-02, -7.3498e-04, -2.0318e-02,\n",
            "        -1.3850e-02,  4.9150e-02,  2.0412e-03, -1.2697e-02, -2.5860e-02,\n",
            "         4.8192e-02,  3.9601e-02, -1.8639e-03,  3.0978e-03,  3.4606e-02,\n",
            "        -4.9468e-02,  4.7573e-03,  3.9561e-02,  6.6473e-02,  9.4549e-02,\n",
            "        -4.2385e-02, -2.6685e-02,  2.0867e-02, -4.0410e-02,  8.4057e-02,\n",
            "         4.7912e-02,  2.5043e-02,  1.2617e-01,  2.0727e-02,  1.9900e-02,\n",
            "        -6.6812e-02,  9.0548e-02,  7.2064e-02, -1.4976e-02, -2.7610e-02,\n",
            "        -1.6996e-02, -1.8498e-02, -4.8083e-02, -7.5415e-02, -6.0527e-03,\n",
            "         8.1471e-03,  1.3475e-02,  1.8411e-02, -1.5440e-02,  2.2582e-02,\n",
            "        -2.7802e-02,  5.0567e-02, -4.1464e-02, -7.9197e-02, -2.3906e-02,\n",
            "         4.2318e-02,  4.1864e-02, -6.5203e-02,  5.7803e-02,  1.1575e-01,\n",
            "         1.3865e-02,  1.8819e-02, -2.1014e-02, -5.9186e-02,  4.6515e-02,\n",
            "        -4.2260e-03,  2.7493e-02, -5.9843e-02, -4.6793e-02,  1.0217e-01,\n",
            "         1.1736e-01,  5.6714e-03,  8.5806e-02,  3.9327e-02,  2.5607e-02,\n",
            "         3.4741e-02,  9.4875e-04, -1.5768e-02,  3.4663e-02, -2.8879e-02,\n",
            "         1.0108e-02, -3.6054e-02, -9.0488e-03, -1.2767e-01, -1.1570e-08,\n",
            "         1.8486e-02, -3.6123e-02,  7.2134e-02, -2.5724e-02,  3.0571e-02,\n",
            "         5.1235e-02,  3.9611e-02,  6.0429e-03,  8.7084e-02,  1.5147e-03,\n",
            "        -2.7944e-02, -4.5079e-02, -6.9789e-02,  6.1144e-02,  3.4728e-02,\n",
            "         1.8688e-02, -5.3366e-03,  7.0594e-02,  1.9861e-02, -2.5642e-02,\n",
            "        -6.8736e-02,  5.1169e-02,  1.8077e-02, -3.4564e-02, -2.6289e-03,\n",
            "        -2.6491e-02,  4.3088e-02,  2.8068e-02,  5.9727e-02,  3.8346e-02,\n",
            "        -3.2210e-02,  1.4619e-02, -3.8575e-02, -1.7135e-02, -5.1371e-02,\n",
            "        -9.1595e-02, -4.2812e-02,  2.7431e-02, -6.3562e-03, -3.0859e-02,\n",
            "        -3.6282e-02, -3.6400e-02,  9.5510e-03, -6.0562e-02, -6.5133e-02,\n",
            "        -8.9451e-02, -7.6285e-03, -4.1860e-02, -9.5054e-03,  1.0159e-01,\n",
            "         7.9512e-03, -1.0135e-02,  7.8250e-02,  3.9154e-02,  1.3608e-02,\n",
            "        -1.9269e-02,  2.1374e-02, -9.9896e-02, -6.7282e-02,  7.6550e-02,\n",
            "         1.6025e-01, -4.8190e-02,  7.3520e-02,  8.9539e-02])\n",
            "Dimensions of the embedding: 384\n"
          ]
        }
      ]
    }
  ],
  "metadata": {
    "colab": {
      "provenance": [],
      "authorship_tag": "ABX9TyNd4VVsWZHkEpuOhQesp4WR",
      "include_colab_link": true
    },
    "kernelspec": {
      "display_name": "Python 3",
      "name": "python3"
    },
    "language_info": {
      "name": "python"
    }
  },
  "nbformat": 4,
  "nbformat_minor": 0
}